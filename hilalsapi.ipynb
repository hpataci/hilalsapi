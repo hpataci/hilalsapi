{
  "nbformat": 4,
  "nbformat_minor": 0,
  "metadata": {
    "colab": {
      "name": "hilalsapi",
      "provenance": []
    },
    "kernelspec": {
      "name": "python3",
      "display_name": "Python 3"
    }
  },
  "cells": [
    {
      "cell_type": "code",
      "metadata": {
        "id": "dQBnImiewPUt",
        "colab_type": "code",
        "colab": {
          "base_uri": "https://localhost:8080/",
          "height": 221
        },
        "outputId": "f863095f-f734-41d2-e817-496566808e56"
      },
      "source": [
        "import pickle\n",
        "import time\n",
        "import sys\n",
        "\n",
        "def pickle_dump(dict2dump, dict_name):\n",
        "    pickle_name = dict_name + '.pickle'\n",
        "    with open(pickle_name, 'wb') as handle:\n",
        "        pickle.dump(dict2dump, handle, protocol = pickle.HIGHEST_PROTOCOL)\n",
        "    return pickle_name\n",
        "\n",
        "def pickle_load(dict_name):\n",
        "    pickle_name = dict_name + '.pickle'\n",
        "    with open(pickle_name, 'rb') as handle:\n",
        "        return pickle.load(handle)\n",
        "    \n",
        "def show_tables(con):\n",
        "    cur = con.cursor()\n",
        "    cur.execute(\"SELECT name FROM sqlite_master WHERE type='table';\")\n",
        "    return cur.fetchall()\n",
        "\n",
        "def log_time_used(t1, task, log, mode = 'a'):\n",
        "    t2 = time.time()\n",
        "    t = round(t2-t1,2)\n",
        "    message = f\"{task} takes {t}s.\"\n",
        "    if log == '':\n",
        "        print(message, file = sys.stdout)\n",
        "    else:\n",
        "        with open(log, mode) as f:\n",
        "            print(message, file = f)\n",
        "    return time.time()\n",
        "\n",
        "\n",
        "\n",
        "\n",
        "!pip install bing-web-search-api\n",
        "import bing_web_search_api \n",
        "\n",
        "!pip install msrest\n",
        "import msrest\n",
        "\n",
        "from msrest import authentication #CognitiveServicesCredentials\n",
        "\n",
        "from msrest.authentication import CognitiveServicesCredentials\n",
        "import json\n",
        "\n",
        "\n",
        "def simple_bing_search(search_word):\n",
        "    subscription_key = \"\" # input key from Bing search\n",
        "    assert subscription_key\n",
        "    client = WebSearchAPI(CognitiveServicesCredentials(subscription_key))\n",
        "    web_data_raw = client.web.search(query=search_word, raw = True, count = 50)\n",
        "    raw_text = web_data_raw.response.text\n",
        "    raw_dict = json.loads(raw_text)\n",
        "    return raw_dict\n",
        "\n",
        "def print_log(message, logfile = '', mode = 'a'):\n",
        "    if logfile != '':\n",
        "        with open(logfile, mode) as f:\n",
        "            print(message, file = f)\n",
        "    else:\n",
        "        print(message, file = sys.stdout)\n",
        "    return None\n",
        "\n",
        "\n"
      ],
      "execution_count": 2,
      "outputs": [
        {
          "output_type": "stream",
          "text": [
            "Requirement already satisfied: bing-web-search-api in /usr/local/lib/python3.6/dist-packages (0.0.1)\n",
            "Requirement already satisfied: httplib2 in /usr/local/lib/python3.6/dist-packages (from bing-web-search-api) (0.11.3)\n",
            "Requirement already satisfied: msrest in /usr/local/lib/python3.6/dist-packages (0.6.11)\n",
            "Requirement already satisfied: requests~=2.16 in /usr/local/lib/python3.6/dist-packages (from msrest) (2.21.0)\n",
            "Requirement already satisfied: certifi>=2017.4.17 in /usr/local/lib/python3.6/dist-packages (from msrest) (2019.11.28)\n",
            "Requirement already satisfied: requests-oauthlib>=0.5.0 in /usr/local/lib/python3.6/dist-packages (from msrest) (1.3.0)\n",
            "Requirement already satisfied: isodate>=0.6.0 in /usr/local/lib/python3.6/dist-packages (from msrest) (0.6.0)\n",
            "Requirement already satisfied: urllib3<1.25,>=1.21.1 in /usr/local/lib/python3.6/dist-packages (from requests~=2.16->msrest) (1.24.3)\n",
            "Requirement already satisfied: chardet<3.1.0,>=3.0.2 in /usr/local/lib/python3.6/dist-packages (from requests~=2.16->msrest) (3.0.4)\n",
            "Requirement already satisfied: idna<2.9,>=2.5 in /usr/local/lib/python3.6/dist-packages (from requests~=2.16->msrest) (2.8)\n",
            "Requirement already satisfied: oauthlib>=3.0.0 in /usr/local/lib/python3.6/dist-packages (from requests-oauthlib>=0.5.0->msrest) (3.1.0)\n",
            "Requirement already satisfied: six in /usr/local/lib/python3.6/dist-packages (from isodate>=0.6.0->msrest) (1.12.0)\n"
          ],
          "name": "stdout"
        }
      ]
    }
  ]
}